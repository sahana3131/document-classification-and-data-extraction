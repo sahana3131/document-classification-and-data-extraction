{
 "cells": [
  {
   "cell_type": "code",
   "execution_count": 1,
   "id": "bd31762f",
   "metadata": {},
   "outputs": [],
   "source": [
    "import os\n",
    "import PyPDF2\n",
    "import docx\n",
    "import pytesseract"
   ]
  },
  {
   "cell_type": "code",
   "execution_count": 2,
   "id": "000b44ee",
   "metadata": {},
   "outputs": [],
   "source": [
    "from PIL import Image"
   ]
  },
  {
   "cell_type": "code",
   "execution_count": 3,
   "id": "5dd9259c",
   "metadata": {},
   "outputs": [],
   "source": [
    "def classify_and_split(file_path):\n",
    "    # check the file type\n",
    "    ext = os.path.splitext(file_path)[1]\n",
    "\n",
    "    if ext == '.pdf':\n",
    "        # open the pdf file\n",
    "        with open(file_path, 'rb') as file:\n",
    "            pdf = PyPDF2.PdfFileReader(file)\n",
    "            # iterate over the pages\n",
    "            for page in range(pdf.getNumPages()):\n",
    "                text = pdf.getPage(page).extractText()\n",
    "                classify_and_split_text(text)\n",
    "    elif ext == '.docx':\n",
    "        # open the word document\n",
    "        doc = docx.Document(file_path)\n",
    "        # extract the text\n",
    "        text = '\\n'.join([para.text for para in doc.paragraphs])\n",
    "        classify_and_split_text(text)\n",
    "    elif ext in ['.jpg', '.jpeg', '.png']:\n",
    "        # open the image\n",
    "        image = Image.open(file_path)\n",
    "        # extract the text using OCR\n",
    "        text = pytesseract.image_to_string(image)\n",
    "        classify_and_split_text(text)\n",
    "    else:\n",
    "        print(\"Invalid file type\")"
   ]
  },
  {
   "cell_type": "code",
   "execution_count": 4,
   "id": "1b60c17c",
   "metadata": {},
   "outputs": [],
   "source": [
    "def classify_and_split_text(text):\n",
    "    # classify and split the text based on document type\n",
    "    if \"PAN\" in text:\n",
    "        print(\"PAN document found\")\n",
    "    if \"Aadhaar\" in text:\n",
    "        print(\"Aadhaar document found\")\n",
    "    if \"Bank Statement\" in text:\n",
    "        print(\"Bank statement found\")\n",
    "    if \"ITR\" in text or \"Form 16\" in text:\n",
    "        print(\"ITR/Form 16 document found\")\n",
    "    if \"Customer Photograph\" in text or \"Selfie\" in text:\n",
    "        print(\"Customer photograph found\")\n",
    "    if \"Utility Bill\" in text or \"Power\" in text or \"Water\" in text or \"Gas\" in text or \"Landline\" in text:\n",
    "        print(\"Utility bill found\")\n",
    "    if \"Cheque Leaf\" in text:\n",
    "        print(\"Cheque leaf found\")\n",
    "    if \"Salary Slip\" in text or \"Certificate\" in text:\n",
    "        print(\"Salary slip/certificate found\")\n",
    "    if \"Driving License\" in text:\n",
    "        print(\"Driving license found\")\n",
    "    if \"Voter ID\" in text:\n",
    "        print(\"Voter ID found\")\n",
    "    if \"Passport\" in text:\n",
    "        print(\"Passport found\")"
   ]
  },
  {
   "cell_type": "code",
   "execution_count": 12,
   "id": "0fe68f05",
   "metadata": {},
   "outputs": [
    {
     "ename": "SyntaxError",
     "evalue": "(unicode error) 'unicodeescape' codec can't decode bytes in position 2-3: truncated \\UXXXXXXXX escape (4071356717.py, line 1)",
     "output_type": "error",
     "traceback": [
      "\u001b[1;36m  Input \u001b[1;32mIn [12]\u001b[1;36m\u001b[0m\n\u001b[1;33m    classify_and_split(\"C:\\Users\\SAHANA\\Downloads\\main-qimg-4a3032007d087580af4a6eff50634659.png\")\u001b[0m\n\u001b[1;37m                                                                                                 ^\u001b[0m\n\u001b[1;31mSyntaxError\u001b[0m\u001b[1;31m:\u001b[0m (unicode error) 'unicodeescape' codec can't decode bytes in position 2-3: truncated \\UXXXXXXXX escape\n"
     ]
    }
   ],
   "source": [
    "classify_and_split(\"C:\\Users\\SAHANA\\Downloads\\main-qimg-4a3032007d087580af4a6eff50634659.png\")"
   ]
  },
  {
   "cell_type": "code",
   "execution_count": null,
   "id": "b07e6ab5",
   "metadata": {},
   "outputs": [],
   "source": []
  }
 ],
 "metadata": {
  "kernelspec": {
   "display_name": "Python 3 (ipykernel)",
   "language": "python",
   "name": "python3"
  },
  "language_info": {
   "codemirror_mode": {
    "name": "ipython",
    "version": 3
   },
   "file_extension": ".py",
   "mimetype": "text/x-python",
   "name": "python",
   "nbconvert_exporter": "python",
   "pygments_lexer": "ipython3",
   "version": "3.9.12"
  }
 },
 "nbformat": 4,
 "nbformat_minor": 5
}
